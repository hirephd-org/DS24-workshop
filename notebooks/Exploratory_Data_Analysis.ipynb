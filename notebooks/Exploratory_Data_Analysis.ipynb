import pandas as pd
import matplotlib.pyplot as plt
import seaborn as sns

# Load the dataset
df = pd.read_csv('happiness_report.csv')

sns.heatmap(df.corr(), annot=True, cmap='coolwarm')
plt.show()
